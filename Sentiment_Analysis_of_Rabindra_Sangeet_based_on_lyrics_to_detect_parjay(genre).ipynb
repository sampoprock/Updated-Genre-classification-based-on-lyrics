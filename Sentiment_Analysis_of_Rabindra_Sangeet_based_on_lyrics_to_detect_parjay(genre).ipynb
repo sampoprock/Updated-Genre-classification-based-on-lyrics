{
  "nbformat": 4,
  "nbformat_minor": 0,
  "metadata": {
    "kernelspec": {
      "display_name": "Python 3",
      "language": "python",
      "name": "python3"
    },
    "language_info": {
      "codemirror_mode": {
        "name": "ipython",
        "version": 3
      },
      "file_extension": ".py",
      "mimetype": "text/x-python",
      "name": "python",
      "nbconvert_exporter": "python",
      "pygments_lexer": "ipython3",
      "version": "3.7.4"
    },
    "colab": {
      "name": "Sentiment Analysis of Rabindra Sangeet based on lyrics to detect parjay(genre).ipynb",
      "provenance": []
    }
  },
  "cells": [
    {
      "cell_type": "code",
      "metadata": {
        "id": "DcnihxGDfUjR",
        "colab_type": "code",
        "outputId": "fe5ff9b5-144a-4b10-9998-446e3a1937a2",
        "colab": {
          "resources": {
            "http://localhost:8080/nbextensions/google.colab/files.js": {
              "data": "Ly8gQ29weXJpZ2h0IDIwMTcgR29vZ2xlIExMQwovLwovLyBMaWNlbnNlZCB1bmRlciB0aGUgQXBhY2hlIExpY2Vuc2UsIFZlcnNpb24gMi4wICh0aGUgIkxpY2Vuc2UiKTsKLy8geW91IG1heSBub3QgdXNlIHRoaXMgZmlsZSBleGNlcHQgaW4gY29tcGxpYW5jZSB3aXRoIHRoZSBMaWNlbnNlLgovLyBZb3UgbWF5IG9idGFpbiBhIGNvcHkgb2YgdGhlIExpY2Vuc2UgYXQKLy8KLy8gICAgICBodHRwOi8vd3d3LmFwYWNoZS5vcmcvbGljZW5zZXMvTElDRU5TRS0yLjAKLy8KLy8gVW5sZXNzIHJlcXVpcmVkIGJ5IGFwcGxpY2FibGUgbGF3IG9yIGFncmVlZCB0byBpbiB3cml0aW5nLCBzb2Z0d2FyZQovLyBkaXN0cmlidXRlZCB1bmRlciB0aGUgTGljZW5zZSBpcyBkaXN0cmlidXRlZCBvbiBhbiAiQVMgSVMiIEJBU0lTLAovLyBXSVRIT1VUIFdBUlJBTlRJRVMgT1IgQ09ORElUSU9OUyBPRiBBTlkgS0lORCwgZWl0aGVyIGV4cHJlc3Mgb3IgaW1wbGllZC4KLy8gU2VlIHRoZSBMaWNlbnNlIGZvciB0aGUgc3BlY2lmaWMgbGFuZ3VhZ2UgZ292ZXJuaW5nIHBlcm1pc3Npb25zIGFuZAovLyBsaW1pdGF0aW9ucyB1bmRlciB0aGUgTGljZW5zZS4KCi8qKgogKiBAZmlsZW92ZXJ2aWV3IEhlbHBlcnMgZm9yIGdvb2dsZS5jb2xhYiBQeXRob24gbW9kdWxlLgogKi8KKGZ1bmN0aW9uKHNjb3BlKSB7CmZ1bmN0aW9uIHNwYW4odGV4dCwgc3R5bGVBdHRyaWJ1dGVzID0ge30pIHsKICBjb25zdCBlbGVtZW50ID0gZG9jdW1lbnQuY3JlYXRlRWxlbWVudCgnc3BhbicpOwogIGVsZW1lbnQudGV4dENvbnRlbnQgPSB0ZXh0OwogIGZvciAoY29uc3Qga2V5IG9mIE9iamVjdC5rZXlzKHN0eWxlQXR0cmlidXRlcykpIHsKICAgIGVsZW1lbnQuc3R5bGVba2V5XSA9IHN0eWxlQXR0cmlidXRlc1trZXldOwogIH0KICByZXR1cm4gZWxlbWVudDsKfQoKLy8gTWF4IG51bWJlciBvZiBieXRlcyB3aGljaCB3aWxsIGJlIHVwbG9hZGVkIGF0IGEgdGltZS4KY29uc3QgTUFYX1BBWUxPQURfU0laRSA9IDEwMCAqIDEwMjQ7Ci8vIE1heCBhbW91bnQgb2YgdGltZSB0byBibG9jayB3YWl0aW5nIGZvciB0aGUgdXNlci4KY29uc3QgRklMRV9DSEFOR0VfVElNRU9VVF9NUyA9IDMwICogMTAwMDsKCmZ1bmN0aW9uIF91cGxvYWRGaWxlcyhpbnB1dElkLCBvdXRwdXRJZCkgewogIGNvbnN0IHN0ZXBzID0gdXBsb2FkRmlsZXNTdGVwKGlucHV0SWQsIG91dHB1dElkKTsKICBjb25zdCBvdXRwdXRFbGVtZW50ID0gZG9jdW1lbnQuZ2V0RWxlbWVudEJ5SWQob3V0cHV0SWQpOwogIC8vIENhY2hlIHN0ZXBzIG9uIHRoZSBvdXRwdXRFbGVtZW50IHRvIG1ha2UgaXQgYXZhaWxhYmxlIGZvciB0aGUgbmV4dCBjYWxsCiAgLy8gdG8gdXBsb2FkRmlsZXNDb250aW51ZSBmcm9tIFB5dGhvbi4KICBvdXRwdXRFbGVtZW50LnN0ZXBzID0gc3RlcHM7CgogIHJldHVybiBfdXBsb2FkRmlsZXNDb250aW51ZShvdXRwdXRJZCk7Cn0KCi8vIFRoaXMgaXMgcm91Z2hseSBhbiBhc3luYyBnZW5lcmF0b3IgKG5vdCBzdXBwb3J0ZWQgaW4gdGhlIGJyb3dzZXIgeWV0KSwKLy8gd2hlcmUgdGhlcmUgYXJlIG11bHRpcGxlIGFzeW5jaHJvbm91cyBzdGVwcyBhbmQgdGhlIFB5dGhvbiBzaWRlIGlzIGdvaW5nCi8vIHRvIHBvbGwgZm9yIGNvbXBsZXRpb24gb2YgZWFjaCBzdGVwLgovLyBUaGlzIHVzZXMgYSBQcm9taXNlIHRvIGJsb2NrIHRoZSBweXRob24gc2lkZSBvbiBjb21wbGV0aW9uIG9mIGVhY2ggc3RlcCwKLy8gdGhlbiBwYXNzZXMgdGhlIHJlc3VsdCBvZiB0aGUgcHJldmlvdXMgc3RlcCBhcyB0aGUgaW5wdXQgdG8gdGhlIG5leHQgc3RlcC4KZnVuY3Rpb24gX3VwbG9hZEZpbGVzQ29udGludWUob3V0cHV0SWQpIHsKICBjb25zdCBvdXRwdXRFbGVtZW50ID0gZG9jdW1lbnQuZ2V0RWxlbWVudEJ5SWQob3V0cHV0SWQpOwogIGNvbnN0IHN0ZXBzID0gb3V0cHV0RWxlbWVudC5zdGVwczsKCiAgY29uc3QgbmV4dCA9IHN0ZXBzLm5leHQob3V0cHV0RWxlbWVudC5sYXN0UHJvbWlzZVZhbHVlKTsKICByZXR1cm4gUHJvbWlzZS5yZXNvbHZlKG5leHQudmFsdWUucHJvbWlzZSkudGhlbigodmFsdWUpID0+IHsKICAgIC8vIENhY2hlIHRoZSBsYXN0IHByb21pc2UgdmFsdWUgdG8gbWFrZSBpdCBhdmFpbGFibGUgdG8gdGhlIG5leHQKICAgIC8vIHN0ZXAgb2YgdGhlIGdlbmVyYXRvci4KICAgIG91dHB1dEVsZW1lbnQubGFzdFByb21pc2VWYWx1ZSA9IHZhbHVlOwogICAgcmV0dXJuIG5leHQudmFsdWUucmVzcG9uc2U7CiAgfSk7Cn0KCi8qKgogKiBHZW5lcmF0b3IgZnVuY3Rpb24gd2hpY2ggaXMgY2FsbGVkIGJldHdlZW4gZWFjaCBhc3luYyBzdGVwIG9mIHRoZSB1cGxvYWQKICogcHJvY2Vzcy4KICogQHBhcmFtIHtzdHJpbmd9IGlucHV0SWQgRWxlbWVudCBJRCBvZiB0aGUgaW5wdXQgZmlsZSBwaWNrZXIgZWxlbWVudC4KICogQHBhcmFtIHtzdHJpbmd9IG91dHB1dElkIEVsZW1lbnQgSUQgb2YgdGhlIG91dHB1dCBkaXNwbGF5LgogKiBAcmV0dXJuIHshSXRlcmFibGU8IU9iamVjdD59IEl0ZXJhYmxlIG9mIG5leHQgc3RlcHMuCiAqLwpmdW5jdGlvbiogdXBsb2FkRmlsZXNTdGVwKGlucHV0SWQsIG91dHB1dElkKSB7CiAgY29uc3QgaW5wdXRFbGVtZW50ID0gZG9jdW1lbnQuZ2V0RWxlbWVudEJ5SWQoaW5wdXRJZCk7CiAgaW5wdXRFbGVtZW50LmRpc2FibGVkID0gZmFsc2U7CgogIGNvbnN0IG91dHB1dEVsZW1lbnQgPSBkb2N1bWVudC5nZXRFbGVtZW50QnlJZChvdXRwdXRJZCk7CiAgb3V0cHV0RWxlbWVudC5pbm5lckhUTUwgPSAnJzsKCiAgY29uc3QgcGlja2VkUHJvbWlzZSA9IG5ldyBQcm9taXNlKChyZXNvbHZlKSA9PiB7CiAgICBpbnB1dEVsZW1lbnQuYWRkRXZlbnRMaXN0ZW5lcignY2hhbmdlJywgKGUpID0+IHsKICAgICAgcmVzb2x2ZShlLnRhcmdldC5maWxlcyk7CiAgICB9KTsKICB9KTsKCiAgY29uc3QgY2FuY2VsID0gZG9jdW1lbnQuY3JlYXRlRWxlbWVudCgnYnV0dG9uJyk7CiAgaW5wdXRFbGVtZW50LnBhcmVudEVsZW1lbnQuYXBwZW5kQ2hpbGQoY2FuY2VsKTsKICBjYW5jZWwudGV4dENvbnRlbnQgPSAnQ2FuY2VsIHVwbG9hZCc7CiAgY29uc3QgY2FuY2VsUHJvbWlzZSA9IG5ldyBQcm9taXNlKChyZXNvbHZlKSA9PiB7CiAgICBjYW5jZWwub25jbGljayA9ICgpID0+IHsKICAgICAgcmVzb2x2ZShudWxsKTsKICAgIH07CiAgfSk7CgogIC8vIENhbmNlbCB1cGxvYWQgaWYgdXNlciBoYXNuJ3QgcGlja2VkIGFueXRoaW5nIGluIHRpbWVvdXQuCiAgY29uc3QgdGltZW91dFByb21pc2UgPSBuZXcgUHJvbWlzZSgocmVzb2x2ZSkgPT4gewogICAgc2V0VGltZW91dCgoKSA9PiB7CiAgICAgIHJlc29sdmUobnVsbCk7CiAgICB9LCBGSUxFX0NIQU5HRV9USU1FT1VUX01TKTsKICB9KTsKCiAgLy8gV2FpdCBmb3IgdGhlIHVzZXIgdG8gcGljayB0aGUgZmlsZXMuCiAgY29uc3QgZmlsZXMgPSB5aWVsZCB7CiAgICBwcm9taXNlOiBQcm9taXNlLnJhY2UoW3BpY2tlZFByb21pc2UsIHRpbWVvdXRQcm9taXNlLCBjYW5jZWxQcm9taXNlXSksCiAgICByZXNwb25zZTogewogICAgICBhY3Rpb246ICdzdGFydGluZycsCiAgICB9CiAgfTsKCiAgaWYgKCFmaWxlcykgewogICAgcmV0dXJuIHsKICAgICAgcmVzcG9uc2U6IHsKICAgICAgICBhY3Rpb246ICdjb21wbGV0ZScsCiAgICAgIH0KICAgIH07CiAgfQoKICBjYW5jZWwucmVtb3ZlKCk7CgogIC8vIERpc2FibGUgdGhlIGlucHV0IGVsZW1lbnQgc2luY2UgZnVydGhlciBwaWNrcyBhcmUgbm90IGFsbG93ZWQuCiAgaW5wdXRFbGVtZW50LmRpc2FibGVkID0gdHJ1ZTsKCiAgZm9yIChjb25zdCBmaWxlIG9mIGZpbGVzKSB7CiAgICBjb25zdCBsaSA9IGRvY3VtZW50LmNyZWF0ZUVsZW1lbnQoJ2xpJyk7CiAgICBsaS5hcHBlbmQoc3BhbihmaWxlLm5hbWUsIHtmb250V2VpZ2h0OiAnYm9sZCd9KSk7CiAgICBsaS5hcHBlbmQoc3BhbigKICAgICAgICBgKCR7ZmlsZS50eXBlIHx8ICduL2EnfSkgLSAke2ZpbGUuc2l6ZX0gYnl0ZXMsIGAgKwogICAgICAgIGBsYXN0IG1vZGlmaWVkOiAkewogICAgICAgICAgICBmaWxlLmxhc3RNb2RpZmllZERhdGUgPyBmaWxlLmxhc3RNb2RpZmllZERhdGUudG9Mb2NhbGVEYXRlU3RyaW5nKCkgOgogICAgICAgICAgICAgICAgICAgICAgICAgICAgICAgICAgICAnbi9hJ30gLSBgKSk7CiAgICBjb25zdCBwZXJjZW50ID0gc3BhbignMCUgZG9uZScpOwogICAgbGkuYXBwZW5kQ2hpbGQocGVyY2VudCk7CgogICAgb3V0cHV0RWxlbWVudC5hcHBlbmRDaGlsZChsaSk7CgogICAgY29uc3QgZmlsZURhdGFQcm9taXNlID0gbmV3IFByb21pc2UoKHJlc29sdmUpID0+IHsKICAgICAgY29uc3QgcmVhZGVyID0gbmV3IEZpbGVSZWFkZXIoKTsKICAgICAgcmVhZGVyLm9ubG9hZCA9IChlKSA9PiB7CiAgICAgICAgcmVzb2x2ZShlLnRhcmdldC5yZXN1bHQpOwogICAgICB9OwogICAgICByZWFkZXIucmVhZEFzQXJyYXlCdWZmZXIoZmlsZSk7CiAgICB9KTsKICAgIC8vIFdhaXQgZm9yIHRoZSBkYXRhIHRvIGJlIHJlYWR5LgogICAgbGV0IGZpbGVEYXRhID0geWllbGQgewogICAgICBwcm9taXNlOiBmaWxlRGF0YVByb21pc2UsCiAgICAgIHJlc3BvbnNlOiB7CiAgICAgICAgYWN0aW9uOiAnY29udGludWUnLAogICAgICB9CiAgICB9OwoKICAgIC8vIFVzZSBhIGNodW5rZWQgc2VuZGluZyB0byBhdm9pZCBtZXNzYWdlIHNpemUgbGltaXRzLiBTZWUgYi82MjExNTY2MC4KICAgIGxldCBwb3NpdGlvbiA9IDA7CiAgICB3aGlsZSAocG9zaXRpb24gPCBmaWxlRGF0YS5ieXRlTGVuZ3RoKSB7CiAgICAgIGNvbnN0IGxlbmd0aCA9IE1hdGgubWluKGZpbGVEYXRhLmJ5dGVMZW5ndGggLSBwb3NpdGlvbiwgTUFYX1BBWUxPQURfU0laRSk7CiAgICAgIGNvbnN0IGNodW5rID0gbmV3IFVpbnQ4QXJyYXkoZmlsZURhdGEsIHBvc2l0aW9uLCBsZW5ndGgpOwogICAgICBwb3NpdGlvbiArPSBsZW5ndGg7CgogICAgICBjb25zdCBiYXNlNjQgPSBidG9hKFN0cmluZy5mcm9tQ2hhckNvZGUuYXBwbHkobnVsbCwgY2h1bmspKTsKICAgICAgeWllbGQgewogICAgICAgIHJlc3BvbnNlOiB7CiAgICAgICAgICBhY3Rpb246ICdhcHBlbmQnLAogICAgICAgICAgZmlsZTogZmlsZS5uYW1lLAogICAgICAgICAgZGF0YTogYmFzZTY0LAogICAgICAgIH0sCiAgICAgIH07CiAgICAgIHBlcmNlbnQudGV4dENvbnRlbnQgPQogICAgICAgICAgYCR7TWF0aC5yb3VuZCgocG9zaXRpb24gLyBmaWxlRGF0YS5ieXRlTGVuZ3RoKSAqIDEwMCl9JSBkb25lYDsKICAgIH0KICB9CgogIC8vIEFsbCBkb25lLgogIHlpZWxkIHsKICAgIHJlc3BvbnNlOiB7CiAgICAgIGFjdGlvbjogJ2NvbXBsZXRlJywKICAgIH0KICB9Owp9CgpzY29wZS5nb29nbGUgPSBzY29wZS5nb29nbGUgfHwge307CnNjb3BlLmdvb2dsZS5jb2xhYiA9IHNjb3BlLmdvb2dsZS5jb2xhYiB8fCB7fTsKc2NvcGUuZ29vZ2xlLmNvbGFiLl9maWxlcyA9IHsKICBfdXBsb2FkRmlsZXMsCiAgX3VwbG9hZEZpbGVzQ29udGludWUsCn07Cn0pKHNlbGYpOwo=",
              "ok": true,
              "headers": [
                [
                  "content-type",
                  "application/javascript"
                ]
              ],
              "status": 200,
              "status_text": ""
            }
          },
          "base_uri": "https://localhost:8080/",
          "height": 516
        }
      },
      "source": [
        "import pandas as pd\n",
        "import numpy as np\n",
        "from numpy import random\n",
        "import gensim\n",
        "import nltk\n",
        "from sklearn.feature_extraction.text import CountVectorizer\n",
        "from sklearn.metrics import accuracy_score\n",
        "import matplotlib.pyplot as plt\n",
        "import io\n",
        "from google.colab import files\n",
        "%matplotlib inline\n",
        "\n",
        "uploaded = files.upload()\n",
        "#data importing\n",
        "df = pd.read_excel(io.BytesIO(uploaded['train (2).xlsx']))\n",
        "df1 =pd.read_excel(io.BytesIO(uploaded['test (2).xlsx']))\n",
        "own_tag=['1','2','3','4','5']\n",
        "\n",
        "#data visualization\n",
        "print(df['Songs'])\n",
        "print(df1['Songs'])"
      ],
      "execution_count": 0,
      "outputs": [
        {
          "output_type": "display_data",
          "data": {
            "text/html": [
              "\n",
              "     <input type=\"file\" id=\"files-63c9e159-ec52-4bc9-82a9-fe362f1f8e3c\" name=\"files[]\" multiple disabled />\n",
              "     <output id=\"result-63c9e159-ec52-4bc9-82a9-fe362f1f8e3c\">\n",
              "      Upload widget is only available when the cell has been executed in the\n",
              "      current browser session. Please rerun this cell to enable.\n",
              "      </output>\n",
              "      <script src=\"/nbextensions/google.colab/files.js\"></script> "
            ],
            "text/plain": [
              "<IPython.core.display.HTML object>"
            ]
          },
          "metadata": {
            "tags": []
          }
        },
        {
          "output_type": "stream",
          "text": [
            "Saving test (2).xlsx to test (2) (1).xlsx\n",
            "Saving train (2).xlsx to train (2) (1).xlsx\n",
            "0      বিশ্ববীণারবে বিশ্বজন মোহিছে।\\nস্থলে জলে নভতলে ...\n",
            "1      কুসুমে কুসুমে চরণচিহ্ন   দিয়ে যাও, শেষে  দাও ম...\n",
            "2      একি  আকুলতা ভুবনে!  একি  চঞ্চলতা পবনে॥\\nএকি  ম...\n",
            "3      আজ  তালের বনের করতালি  কিসের তালে\\nপূর্ণিমাচাঁ...\n",
            "4      আঁধার কুঁড়ির বাঁধন টুটে  চাঁদের ফুল উঠেছে ফুটে...\n",
            "                             ...                        \n",
            "591    মরুবিজয়ের কেতন উড়াও শূন্যে    হে প্রবল প্রাণ।\\...\n",
            "592    ওহে   নবীন অতিথি, তুমি নূতন কি তুমি চিরন্তন।\\n...\n",
            "593    ফিরে চল্‌,   ফিরে চল্‌,   ফিরে চল্‌ মাটির টানে...\n",
            "594    আয় রে মোরা ফসল কাটি–\\nফসল কাটি,    ফসল কাটি।\\n...\n",
            "595      অগ্নিশিখা,    এসো এসো, আনো আনো আলো।\\nদুঃখে স...\n",
            "Name: Songs, Length: 596, dtype: object\n",
            "0      কোন্‌  সুদূর হতে আমার মনোমাঝে\\n       বাণীর ধা...\n",
            "1      আকাশ হতে আকাশ-পথে হাজার স্রোতে\\n           ঝরছ...\n",
            "2      আলোক-চোরা লুকিয়ে এল ওই–\\n              তিমিরজয়...\n",
            "3      জাগ’   আলসশয়নবিলগ্ন।\\n               জাগ’   তা...\n",
            "4      তোমার আসন শূন্য আজি হে বীর পূর্ণ করো–\\n     ওই...\n",
            "                             ...                        \n",
            "160     এসো   হে   গৃহদেবতা\\nএ ভবন পুণ্যপ্রভাবে করো প...\n",
            "161    এসো এসো এসো প্রাণের উৎসবে,\\nদক্ষিণবায়ুর বেণুরব...\n",
            "162    বিশ্বরাজালয়ে বিশ্ববীণা বাজিছে।\\nস্থলে জলে নভতল...\n",
            "163    দিনের বিচার করো–\\nদিনশেষে তব সমুখে দাঁড়ানু ,  ...\n",
            "164      তোমার    আনন্দ ওই গো\\nতোমার      আনন্দ ওই এল...\n",
            "Name: Songs, Length: 165, dtype: object\n"
          ],
          "name": "stdout"
        }
      ]
    },
    {
      "cell_type": "code",
      "metadata": {
        "id": "rEzRv8cMfUjm",
        "colab_type": "code",
        "outputId": "1a5ab070-14fb-4150-d210-5d137e7b3de2",
        "colab": {
          "base_uri": "https://localhost:8080/",
          "height": 425
        }
      },
      "source": [
        "import re\n",
        "REPLACE_BY_SPACE_RE = re.compile('[/(){}—\\[\\]\\|@,;‘?|।!`-॥–’-]')\n",
        "\n",
        "def clean_text(text):\n",
        "    \"\"\"\n",
        "        text: a string\n",
        "        \n",
        "        return: modified initial string\n",
        "    \"\"\"\n",
        "    text = text.replace('\\n',' ')\n",
        "    text = REPLACE_BY_SPACE_RE.sub(' ', text) # replace REPLACE_BY_SPACE_RE symbols by space in text\n",
        "    return text\n",
        "\n",
        "df['Songs'] = df['Songs'].apply(clean_text)\n",
        "\n",
        "df1['Songs'] = df1['Songs'].apply(clean_text)\n",
        "\n",
        "print(df['Songs'])\n",
        "print(df1['Songs'])"
      ],
      "execution_count": 0,
      "outputs": [
        {
          "output_type": "stream",
          "text": [
            "0      বিশ্ববীণারবে বিশ্বজন মোহিছে  স্থলে জলে নভতলে ব...\n",
            "1      কুসুমে কুসুমে চরণচিহ্ন   দিয়ে যাও  শেষে  দাও ম...\n",
            "2      একি  আকুলতা ভুবনে   একি  চঞ্চলতা পবনে  একি  মধ...\n",
            "3      আজ  তালের বনের করতালি  কিসের তালে পূর্ণিমাচাঁদ...\n",
            "4      আঁধার কুঁড়ির বাঁধন টুটে  চাঁদের ফুল উঠেছে ফুটে...\n",
            "                             ...                        \n",
            "591    মরুবিজয়ের কেতন উড়াও শূন্যে    হে প্রবল প্রাণ  ...\n",
            "592    ওহে   নবীন অতিথি  তুমি নূতন কি তুমি চিরন্তন   ...\n",
            "593    ফিরে চল্‌    ফিরে চল্‌    ফিরে চল্‌ মাটির টানে...\n",
            "594    আয় রে মোরা ফসল কাটি  ফসল কাটি     ফসল কাটি    ...\n",
            "595      অগ্নিশিখা     এসো এসো  আনো আনো আলো  দুঃখে সু...\n",
            "Name: Songs, Length: 596, dtype: object\n",
            "0      কোন্‌  সুদূর হতে আমার মনোমাঝে        বাণীর ধার...\n",
            "1      আকাশ হতে আকাশ পথে হাজার স্রোতে            ঝরছে...\n",
            "2      আলোক চোরা লুকিয়ে এল ওই                তিমিরজয়ী...\n",
            "3      জাগ    আলসশয়নবিলগ্ন                 জাগ    তাম...\n",
            "4      তোমার আসন শূন্য আজি হে বীর পূর্ণ করো       ওই ...\n",
            "                             ...                        \n",
            "160     এসো   হে   গৃহদেবতা এ ভবন পুণ্যপ্রভাবে করো পব...\n",
            "161    এসো এসো এসো প্রাণের উৎসবে  দক্ষিণবায়ুর বেণুরবে...\n",
            "162    বিশ্বরাজালয়ে বিশ্ববীণা বাজিছে  স্থলে জলে নভতলে...\n",
            "163    দিনের বিচার করো  দিনশেষে তব সমুখে দাঁড়ানু    ও...\n",
            "164      তোমার    আনন্দ ওই গো তোমার      আনন্দ ওই এল ...\n",
            "Name: Songs, Length: 165, dtype: object\n"
          ],
          "name": "stdout"
        }
      ]
    },
    {
      "cell_type": "code",
      "metadata": {
        "id": "YDATqraAfUjx",
        "colab_type": "code",
        "outputId": "5df6615c-c323-40e8-c513-2a21a9f72e22",
        "colab": {
          "base_uri": "https://localhost:8080/",
          "height": 799
        }
      },
      "source": [
        "X_train = df.Songs\n",
        "y_train = df.Tag\n",
        "X_test=df1.Songs\n",
        "y_test=df1.Tag\n",
        "\n",
        "print(X_train,y_train)\n",
        "print(X_test,y_test)"
      ],
      "execution_count": 0,
      "outputs": [
        {
          "output_type": "stream",
          "text": [
            "0      বিশ্ববীণারবে বিশ্বজন মোহিছে  স্থলে জলে নভতলে ব...\n",
            "1      কুসুমে কুসুমে চরণচিহ্ন   দিয়ে যাও  শেষে  দাও ম...\n",
            "2      একি  আকুলতা ভুবনে   একি  চঞ্চলতা পবনে  একি  মধ...\n",
            "3      আজ  তালের বনের করতালি  কিসের তালে পূর্ণিমাচাঁদ...\n",
            "4      আঁধার কুঁড়ির বাঁধন টুটে  চাঁদের ফুল উঠেছে ফুটে...\n",
            "                             ...                        \n",
            "591    মরুবিজয়ের কেতন উড়াও শূন্যে    হে প্রবল প্রাণ  ...\n",
            "592    ওহে   নবীন অতিথি  তুমি নূতন কি তুমি চিরন্তন   ...\n",
            "593    ফিরে চল্‌    ফিরে চল্‌    ফিরে চল্‌ মাটির টানে...\n",
            "594    আয় রে মোরা ফসল কাটি  ফসল কাটি     ফসল কাটি    ...\n",
            "595      অগ্নিশিখা     এসো এসো  আনো আনো আলো  দুঃখে সু...\n",
            "Name: Songs, Length: 596, dtype: object 0      1\n",
            "1      1\n",
            "2      1\n",
            "3      1\n",
            "4      1\n",
            "      ..\n",
            "591    5\n",
            "592    5\n",
            "593    5\n",
            "594    5\n",
            "595    5\n",
            "Name: Tag, Length: 596, dtype: int64\n",
            "0      কোন্‌  সুদূর হতে আমার মনোমাঝে        বাণীর ধার...\n",
            "1      আকাশ হতে আকাশ পথে হাজার স্রোতে            ঝরছে...\n",
            "2      আলোক চোরা লুকিয়ে এল ওই                তিমিরজয়ী...\n",
            "3      জাগ    আলসশয়নবিলগ্ন                 জাগ    তাম...\n",
            "4      তোমার আসন শূন্য আজি হে বীর পূর্ণ করো       ওই ...\n",
            "                             ...                        \n",
            "160     এসো   হে   গৃহদেবতা এ ভবন পুণ্যপ্রভাবে করো পব...\n",
            "161    এসো এসো এসো প্রাণের উৎসবে  দক্ষিণবায়ুর বেণুরবে...\n",
            "162    বিশ্বরাজালয়ে বিশ্ববীণা বাজিছে  স্থলে জলে নভতলে...\n",
            "163    দিনের বিচার করো  দিনশেষে তব সমুখে দাঁড়ানু    ও...\n",
            "164      তোমার    আনন্দ ওই গো তোমার      আনন্দ ওই এল ...\n",
            "Name: Songs, Length: 165, dtype: object 0      3\n",
            "1      3\n",
            "2      3\n",
            "3      3\n",
            "4      3\n",
            "      ..\n",
            "160    5\n",
            "161    5\n",
            "162    5\n",
            "163    5\n",
            "164    5\n",
            "Name: Tag, Length: 165, dtype: int64\n"
          ],
          "name": "stdout"
        }
      ]
    },
    {
      "cell_type": "code",
      "metadata": {
        "id": "H9O_9V6EfUj9",
        "colab_type": "code",
        "outputId": "213dcb7f-6956-4ecf-ea49-fd202b05b14e",
        "colab": {
          "base_uri": "https://localhost:8080/",
          "height": 615
        }
      },
      "source": [
        "#Naive Bayes classification\n",
        "\n",
        "from sklearn.naive_bayes import MultinomialNB\n",
        "from sklearn.pipeline import Pipeline\n",
        "from sklearn.feature_extraction.text import TfidfTransformer\n",
        "\n",
        "nb = Pipeline([('vect', CountVectorizer()),\n",
        "               ('tfidf', TfidfTransformer()),\n",
        "               ('clf', MultinomialNB()),\n",
        "              ])\n",
        "nb.fit(X_train, y_train)\n",
        "\n",
        "%time\n",
        "from sklearn.metrics import classification_report\n",
        "y_pred = nb.predict(X_test)\n",
        "\n",
        "print('accuracy %s' % accuracy_score(y_pred, y_test))\n",
        "print(classification_report(y_test, y_pred,target_names=own_tag))\n",
        "print(y_pred)\n",
        "print(y_test)"
      ],
      "execution_count": 0,
      "outputs": [
        {
          "output_type": "stream",
          "text": [
            "CPU times: user 1 µs, sys: 0 ns, total: 1 µs\n",
            "Wall time: 5.25 µs\n",
            "accuracy 0.4484848484848485\n",
            "              precision    recall  f1-score   support\n",
            "\n",
            "           1       0.58      0.56      0.57        45\n",
            "           2       0.41      0.61      0.49        41\n",
            "           3       1.00      0.03      0.05        36\n",
            "           4       0.38      0.61      0.47        38\n",
            "           5       0.00      0.00      0.00         5\n",
            "\n",
            "    accuracy                           0.45       165\n",
            "   macro avg       0.47      0.36      0.32       165\n",
            "weighted avg       0.57      0.45      0.40       165\n",
            "\n",
            "[4 2 4 2 1 2 2 2 2 4 2 1 1 1 2 2 2 4 4 2 2 2 2 2 2 2 2 2 2 2 2 1 4 2 2 2 2\n",
            " 4 4 4 2 4 4 1 1 4 2 4 2 4 2 2 2 4 2 4 2 4 4 4 1 2 4 4 4 2 4 4 2 1 4 4 4 2\n",
            " 4 4 4 1 2 4 1 1 4 2 1 4 4 4 1 1 1 4 1 1 1 1 4 2 1 2 1 4 4 1 2 1 4 4 1 1 1\n",
            " 1 2 1 1 1 4 1 1 1 2 4 1 1 4 1 4 4 2 2 1 2 4 3 2 1 2 2 2 2 4 4 4 4 4 4 1 2\n",
            " 2 2 2 2 4 4 1 4 4 4 2 4 2 4 1 2 1]\n",
            "0      3\n",
            "1      3\n",
            "2      3\n",
            "3      3\n",
            "4      3\n",
            "      ..\n",
            "160    5\n",
            "161    5\n",
            "162    5\n",
            "163    5\n",
            "164    5\n",
            "Name: Tag, Length: 165, dtype: int64\n"
          ],
          "name": "stdout"
        },
        {
          "output_type": "stream",
          "text": [
            "/usr/local/lib/python3.6/dist-packages/sklearn/metrics/_classification.py:1272: UndefinedMetricWarning: Precision and F-score are ill-defined and being set to 0.0 in labels with no predicted samples. Use `zero_division` parameter to control this behavior.\n",
            "  _warn_prf(average, modifier, msg_start, len(result))\n"
          ],
          "name": "stderr"
        }
      ]
    },
    {
      "cell_type": "code",
      "metadata": {
        "id": "uJfJHM5zfUkK",
        "colab_type": "code",
        "outputId": "4c8e8e1d-c647-4db7-b0d0-e1a29fe88083",
        "colab": {
          "base_uri": "https://localhost:8080/",
          "height": 411
        }
      },
      "source": [
        "#SVM METHOD\n",
        "\n",
        "from sklearn.linear_model import SGDClassifier\n",
        "\n",
        "sgd = Pipeline([('vect', CountVectorizer()),\n",
        "                ('tfidf', TfidfTransformer()),\n",
        "                ('clf', SGDClassifier(loss='hinge', penalty='l2',alpha=1e-3, max_iter=5000, tol=1e-2, learning_rate='adaptive',eta0=0.1, validation_fraction=0.3)),\n",
        "               ])\n",
        "sgd.fit(X_train, y_train)\n",
        "\n",
        "%time\n",
        "\n",
        "y_pred = sgd.predict(X_test)\n",
        "\n",
        "print('accuracy %s' % accuracy_score(y_pred, y_test))\n",
        "print(classification_report(y_test, y_pred,target_names=own_tag))\n",
        "print(y_pred)"
      ],
      "execution_count": 0,
      "outputs": [
        {
          "output_type": "stream",
          "text": [
            "CPU times: user 3 µs, sys: 0 ns, total: 3 µs\n",
            "Wall time: 5.48 µs\n",
            "accuracy 0.503030303030303\n",
            "              precision    recall  f1-score   support\n",
            "\n",
            "           1       0.60      0.64      0.62        45\n",
            "           2       0.46      0.61      0.53        41\n",
            "           3       0.50      0.19      0.28        36\n",
            "           4       0.45      0.58      0.51        38\n",
            "           5       0.00      0.00      0.00         5\n",
            "\n",
            "    accuracy                           0.50       165\n",
            "   macro avg       0.40      0.41      0.39       165\n",
            "weighted avg       0.49      0.50      0.48       165\n",
            "\n",
            "[2 2 4 2 1 2 3 2 2 4 2 2 3 1 2 3 4 1 1 4 2 2 2 2 2 2 2 2 2 2 2 1 4 2 2 2 2\n",
            " 4 2 4 4 4 4 1 1 4 4 1 2 2 2 2 2 3 2 4 2 4 4 2 3 4 4 4 4 2 4 4 2 1 1 4 2 2\n",
            " 4 4 1 1 3 1 1 1 4 2 1 1 4 4 1 1 1 4 1 1 1 1 4 2 1 2 3 4 4 1 1 1 4 1 1 1 1\n",
            " 1 2 1 1 1 3 1 1 1 2 3 2 1 4 1 4 4 1 4 1 2 4 3 2 1 3 2 3 2 4 4 4 4 3 4 3 2\n",
            " 4 2 2 2 1 4 1 4 4 4 2 4 2 4 1 2 1]\n"
          ],
          "name": "stdout"
        },
        {
          "output_type": "stream",
          "text": [
            "/usr/local/lib/python3.6/dist-packages/sklearn/metrics/_classification.py:1272: UndefinedMetricWarning: Precision and F-score are ill-defined and being set to 0.0 in labels with no predicted samples. Use `zero_division` parameter to control this behavior.\n",
            "  _warn_prf(average, modifier, msg_start, len(result))\n"
          ],
          "name": "stderr"
        }
      ]
    },
    {
      "cell_type": "code",
      "metadata": {
        "id": "2Sd3i3mefUkT",
        "colab_type": "code",
        "outputId": "4275affe-ca23-43dc-cd6d-6be0d86dd027",
        "colab": {
          "base_uri": "https://localhost:8080/",
          "height": 357
        }
      },
      "source": [
        "#perceptron \n",
        "from sklearn.linear_model import Perceptron\n",
        "nb = Pipeline([('vect', CountVectorizer()),\n",
        "               ('tfidf', TfidfTransformer()),\n",
        "               ('clf', Perceptron(max_iter=5000,random_state=1, eta0=0.001,penalty='elasticnet',tol=1e-3, alpha=1e-3)),\n",
        "              ])\n",
        "nb.fit(X_train, y_train)\n",
        "\n",
        "%time\n",
        "from sklearn.metrics import classification_report\n",
        "y_pred = nb.predict(X_test)\n",
        "\n",
        "print('accuracy %s' % accuracy_score(y_pred, y_test))\n",
        "print(classification_report(y_test, y_pred,target_names=own_tag))\n",
        "print(y_pred)"
      ],
      "execution_count": 0,
      "outputs": [
        {
          "output_type": "stream",
          "text": [
            "CPU times: user 3 µs, sys: 0 ns, total: 3 µs\n",
            "Wall time: 6.44 µs\n",
            "accuracy 0.4666666666666667\n",
            "              precision    recall  f1-score   support\n",
            "\n",
            "           1       0.56      0.60      0.58        45\n",
            "           2       0.43      0.46      0.45        41\n",
            "           3       0.39      0.31      0.34        36\n",
            "           4       0.48      0.53      0.50        38\n",
            "           5       0.00      0.00      0.00         5\n",
            "\n",
            "    accuracy                           0.47       165\n",
            "   macro avg       0.37      0.38      0.37       165\n",
            "weighted avg       0.46      0.47      0.46       165\n",
            "\n",
            "[2 3 4 3 1 5 3 2 2 2 2 2 1 1 2 3 4 1 1 4 2 3 2 2 2 2 2 2 1 3 4 1 4 2 4 2 3\n",
            " 4 4 4 4 4 4 4 1 4 4 1 2 2 2 2 2 3 2 3 2 4 4 4 3 3 4 3 4 3 1 4 2 1 4 3 2 2\n",
            " 4 5 2 1 3 1 1 1 2 2 1 1 4 2 1 1 1 3 1 1 1 1 4 2 1 2 1 4 1 1 1 1 5 4 1 1 1\n",
            " 1 2 1 1 2 3 1 1 3 3 3 3 1 4 4 4 4 1 4 1 1 2 3 2 1 1 3 3 3 4 4 4 4 3 4 3 1\n",
            " 4 2 2 2 1 4 1 4 4 2 2 4 2 2 1 2 3]\n"
          ],
          "name": "stdout"
        }
      ]
    },
    {
      "cell_type": "code",
      "metadata": {
        "id": "ZkUFAmI3fUkf",
        "colab_type": "code",
        "outputId": "6f7841b5-f710-4463-d62c-b86d91f84303",
        "colab": {
          "base_uri": "https://localhost:8080/",
          "height": 717
        }
      },
      "source": [
        "#RNN\n",
        "from sklearn.feature_extraction.text import CountVectorizer\n",
        "from sklearn.ensemble import RandomForestClassifier\n",
        "from sklearn.pipeline import Pipeline\n",
        "from sklearn.metrics import accuracy_score\n",
        "def accuracy_summary(pipeline, X_train, y_train, X_test, y_test):\n",
        "    sentiment_fit = pipeline.fit(X_train, y_train)\n",
        "    y_pred = sentiment_fit.predict(X_test)\n",
        "    accuracy = accuracy_score(y_test, y_pred)\n",
        "    print(\"accuracy score: {0:.2f}%\".format(accuracy*100))\n",
        "    return accuracy\n",
        "\n",
        "\n",
        "\n",
        "cv = CountVectorizer()\n",
        "rf = RandomForestClassifier(class_weight=\"balanced\")\n",
        "n_features = np.arange(10000,25001,5000)\n",
        "def nfeature_accuracy_checker(vectorizer=cv, n_features=n_features, stop_words=None, ngram_range=(1, 3), classifier=rf):\n",
        "    result = []\n",
        "    print(classifier)\n",
        "    print(\"\\n\")\n",
        "    for n in n_features:\n",
        "        vectorizer.set_params(stop_words=stop_words, max_features=n, ngram_range=ngram_range)\n",
        "        checker_pipeline = Pipeline([\n",
        "            ('vectorizer', vectorizer),\n",
        "            ('classifier', classifier)\n",
        "        ])\n",
        "        print(\"Test result for {} features\".format(n))\n",
        "        nfeature_accuracy = accuracy_summary(checker_pipeline, X_train, y_train, X_test, y_test)\n",
        "        result.append((n,nfeature_accuracy))\n",
        "    return result\n",
        "from sklearn.feature_extraction.text import TfidfVectorizer\n",
        "tfidf = TfidfVectorizer(encoding='utf-8')\n",
        "print(\"Result for trigram with stop words (Tfidf)\\n\")\n",
        "feature_result_tgt = nfeature_accuracy_checker(vectorizer=tfidf,ngram_range=(1, 2))\n",
        "\n",
        "\n",
        "\n",
        "from sklearn.metrics import classification_report\n",
        "cv = CountVectorizer(max_features=20000,ngram_range=(1, 2))\n",
        "pipeline = Pipeline([\n",
        "        ('vectorizer', cv),\n",
        "        ('classifier', rf)\n",
        "    ])\n",
        "sentiment_fit = pipeline.fit(X_train, y_train)\n",
        "y_pred = sentiment_fit.predict(X_test)\n",
        "\n",
        "\n",
        "print(classification_report(y_test, y_pred, target_names=['parjay 1','parjay 2','parjay 3','parjay 4','parjay 5']))\n",
        "print('accuracy %s' % accuracy_score(y_pred, y_test))\n",
        "print(y_pred)"
      ],
      "execution_count": 0,
      "outputs": [
        {
          "output_type": "stream",
          "text": [
            "Result for trigram with stop words (Tfidf)\n",
            "\n",
            "RandomForestClassifier(bootstrap=True, ccp_alpha=0.0, class_weight='balanced',\n",
            "                       criterion='gini', max_depth=None, max_features='auto',\n",
            "                       max_leaf_nodes=None, max_samples=None,\n",
            "                       min_impurity_decrease=0.0, min_impurity_split=None,\n",
            "                       min_samples_leaf=1, min_samples_split=2,\n",
            "                       min_weight_fraction_leaf=0.0, n_estimators=100,\n",
            "                       n_jobs=None, oob_score=False, random_state=None,\n",
            "                       verbose=0, warm_start=False)\n",
            "\n",
            "\n",
            "Test result for 10000 features\n",
            "accuracy score: 47.88%\n",
            "Test result for 15000 features\n",
            "accuracy score: 47.27%\n",
            "Test result for 20000 features\n",
            "accuracy score: 48.48%\n",
            "Test result for 25000 features\n",
            "accuracy score: 48.48%\n",
            "              precision    recall  f1-score   support\n",
            "\n",
            "    parjay 1       0.60      0.64      0.62        45\n",
            "    parjay 2       0.42      0.68      0.52        41\n",
            "    parjay 3       0.33      0.03      0.05        36\n",
            "    parjay 4       0.49      0.61      0.54        38\n",
            "    parjay 5       0.00      0.00      0.00         5\n",
            "\n",
            "    accuracy                           0.49       165\n",
            "   macro avg       0.37      0.39      0.35       165\n",
            "weighted avg       0.45      0.49      0.43       165\n",
            "\n",
            "accuracy 0.4909090909090909\n",
            "[2 2 4 2 1 2 2 2 2 4 2 1 2 2 2 1 2 1 4 2 2 4 2 2 2 2 2 2 1 2 4 1 2 2 4 2 2\n",
            " 2 2 4 2 4 4 4 1 4 2 4 1 2 2 2 2 3 2 4 2 4 4 4 3 4 4 4 4 2 4 4 4 1 4 4 2 2\n",
            " 2 4 1 1 1 4 1 1 4 1 1 4 4 2 1 1 1 4 1 1 1 4 1 2 1 4 1 2 4 1 1 2 2 4 1 1 1\n",
            " 1 2 1 1 1 1 1 1 1 2 1 2 1 4 1 1 2 1 2 4 2 4 1 2 2 3 2 2 2 4 2 1 4 1 4 4 2\n",
            " 4 2 2 2 2 4 4 4 2 2 2 4 2 1 1 2 2]\n"
          ],
          "name": "stdout"
        },
        {
          "output_type": "stream",
          "text": [
            "/usr/local/lib/python3.6/dist-packages/sklearn/metrics/_classification.py:1272: UndefinedMetricWarning: Precision and F-score are ill-defined and being set to 0.0 in labels with no predicted samples. Use `zero_division` parameter to control this behavior.\n",
            "  _warn_prf(average, modifier, msg_start, len(result))\n"
          ],
          "name": "stderr"
        }
      ]
    },
    {
      "cell_type": "code",
      "metadata": {
        "id": "9ntqCtlxfUkl",
        "colab_type": "code",
        "outputId": "f514206c-e219-4f75-def7-1a7ba1d358e6",
        "colab": {
          "base_uri": "https://localhost:8080/",
          "height": 357
        }
      },
      "source": [
        "#Multi Layer Perceptron Classifier\n",
        "from sklearn.neural_network import MLPClassifier\n",
        "\n",
        "mlp = Pipeline([('vect', CountVectorizer()),\n",
        "                ('tfidf', TfidfTransformer()),\n",
        "                ('clf', MLPClassifier(solver='lbfgs', alpha=1e-3,activation='identity', hidden_layer_sizes=(15,), random_state=1)),\n",
        "               ])\n",
        "mlp.fit(X_train, y_train)\n",
        "\n",
        "%time\n",
        "\n",
        "y_pred = mlp.predict(X_test)\n",
        "\n",
        "print('accuracy %s' % accuracy_score(y_pred, y_test))\n",
        "print(classification_report(y_test, y_pred,target_names=own_tag))\n",
        "print(y_pred)"
      ],
      "execution_count": 0,
      "outputs": [
        {
          "output_type": "stream",
          "text": [
            "CPU times: user 5 µs, sys: 1 µs, total: 6 µs\n",
            "Wall time: 6.91 µs\n",
            "accuracy 0.4909090909090909\n",
            "              precision    recall  f1-score   support\n",
            "\n",
            "           1       0.55      0.69      0.61        45\n",
            "           2       0.46      0.56      0.51        41\n",
            "           3       0.44      0.31      0.36        36\n",
            "           4       0.48      0.42      0.45        38\n",
            "           5       0.00      0.00      0.00         5\n",
            "\n",
            "    accuracy                           0.49       165\n",
            "   macro avg       0.39      0.40      0.39       165\n",
            "weighted avg       0.47      0.49      0.48       165\n",
            "\n",
            "[2 2 2 2 1 2 3 2 3 2 2 1 1 1 2 3 4 1 1 4 2 2 2 2 2 2 2 2 2 3 2 1 4 2 2 2 2\n",
            " 4 4 4 4 4 4 1 1 4 4 2 2 1 2 2 2 3 2 1 2 1 1 2 1 4 4 4 4 3 4 4 2 1 4 3 2 2\n",
            " 4 2 1 1 3 1 1 1 4 2 1 1 4 4 1 1 1 4 1 1 1 1 4 2 1 3 1 1 1 1 1 1 1 1 1 1 1\n",
            " 1 2 1 1 3 3 1 1 3 3 3 3 1 1 1 4 2 1 4 1 5 3 3 2 1 3 2 3 3 1 4 1 4 3 4 3 2\n",
            " 2 2 2 2 3 2 1 4 3 4 2 4 2 4 1 2 3]\n"
          ],
          "name": "stdout"
        }
      ]
    },
    {
      "cell_type": "code",
      "metadata": {
        "id": "onKWriyIfUkq",
        "colab_type": "code",
        "colab": {}
      },
      "source": [
        ""
      ],
      "execution_count": 0,
      "outputs": []
    }
  ]
}